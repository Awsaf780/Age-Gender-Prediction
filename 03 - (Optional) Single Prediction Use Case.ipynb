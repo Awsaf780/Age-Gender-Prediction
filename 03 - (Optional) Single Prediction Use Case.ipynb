{
 "cells": [
  {
   "cell_type": "code",
   "execution_count": 23,
   "id": "08c26c33",
   "metadata": {},
   "outputs": [],
   "source": [
    "import pickle\n",
    "import numpy\n",
    "import os\n",
    "import wget\n",
    "from pydub import AudioSegment\n",
    "import librosa\n",
    "import numpy as np\n",
    "import math"
   ]
  },
  {
   "cell_type": "code",
   "execution_count": 4,
   "id": "d6639b3f",
   "metadata": {},
   "outputs": [],
   "source": [
    "model_age = pickle.load(open('saved_model/age_xgb.sav', 'rb'))\n",
    "model_sex = pickle.load(open('saved_model/gender_xgb.sav', 'rb'))"
   ]
  },
  {
   "cell_type": "code",
   "execution_count": 6,
   "id": "949bdeec",
   "metadata": {},
   "outputs": [],
   "source": [
    "directory = 'saved_model/single_pred'\n",
    "\n",
    "if not os.path.exists(directory):\n",
    "    os.makedirs(directory)"
   ]
  },
  {
   "cell_type": "code",
   "execution_count": 14,
   "id": "bd041c68",
   "metadata": {},
   "outputs": [],
   "source": [
    "input_size = 13*431\n",
    "def audio_to_mfcc(audio_file):\n",
    "    \n",
    "    wav,sr = librosa.load(audio_file)\n",
    "    if wav.shape[0]<10*sr:\n",
    "        wav=np.pad(wav,int(np.ceil((10*sr-wav.shape[0])/2)),mode='reflect')\n",
    "    else:\n",
    "        wav=wav[:10*sr]\n",
    "        \n",
    "    mfcc = librosa.feature.mfcc(wav, n_mfcc=13, sr=sr)\n",
    "    return mfcc.reshape(-1, input_size)"
   ]
  },
  {
   "cell_type": "code",
   "execution_count": 36,
   "id": "46b9fea6",
   "metadata": {},
   "outputs": [],
   "source": [
    "def predict(url):\n",
    "    url = url.replace('https://voca.ro/', 'https://media.vocaroo.com/mp3/')\n",
    "    file_id = url.replace('https://media.vocaroo.com/mp3/', 'Vocaroo ') + '.mp3'\n",
    "    \n",
    "    try:\n",
    "        file = wget.download(url, out=directory)\n",
    "    except: \n",
    "        print(\"Audio Does not exist\")\n",
    "        \n",
    "    source = '{}/{}'.format(directory, file_id)   \n",
    "    destination = source.replace('.mp3', '.wav')\n",
    "    \n",
    "    sound = AudioSegment.from_file(source)\n",
    "    sound.export(destination, format=\"wav\")\n",
    "\n",
    "    audio = audio_to_mfcc(destination)\n",
    "    \n",
    "    age_pred = model_age.predict(audio)\n",
    "    sex_pred = model_sex.predict(audio)\n",
    "    \n",
    "    print()\n",
    "    print()\n",
    "    \n",
    "    print(\"Predicted Age: \", math.floor(age_pred[0]))\n",
    "    if sex_pred[0] == 1:\n",
    "        print(\"Predicted Gender: Female\")\n",
    "    else:\n",
    "        print(\"Predicted Gender: Male\")"
   ]
  },
  {
   "cell_type": "markdown",
   "id": "377bf7bc",
   "metadata": {},
   "source": [
    "# Single Prediction"
   ]
  },
  {
   "cell_type": "markdown",
   "id": "38a244b9",
   "metadata": {},
   "source": [
    "Please Visit this website to record your audio. "
   ]
  },
  {
   "cell_type": "markdown",
   "id": "393a3b7b",
   "metadata": {},
   "source": [
    "https://vocaroo.com/"
   ]
  },
  {
   "cell_type": "markdown",
   "id": "840329de",
   "metadata": {},
   "source": [
    "Save and share the link in the input field. "
   ]
  },
  {
   "cell_type": "markdown",
   "id": "48e14afe",
   "metadata": {},
   "source": [
    "#### Note: The Audio must be 10 seconds or more in length"
   ]
  },
  {
   "cell_type": "code",
   "execution_count": 38,
   "id": "5a5a1b9c",
   "metadata": {},
   "outputs": [
    {
     "name": "stdout",
     "output_type": "stream",
     "text": [
      "https://voca.ro/1n00ovqIxs1K\n",
      "100% [............................................................................] 138528 / 138528\n",
      "\n",
      "Predicted Age:  49\n",
      "Predicted Gender: Male\n"
     ]
    }
   ],
   "source": [
    "url = input()\n",
    "predict(url)"
   ]
  },
  {
   "cell_type": "code",
   "execution_count": null,
   "id": "2825ac9c",
   "metadata": {},
   "outputs": [],
   "source": []
  }
 ],
 "metadata": {
  "kernelspec": {
   "display_name": "Python 3",
   "language": "python",
   "name": "python3"
  },
  "language_info": {
   "codemirror_mode": {
    "name": "ipython",
    "version": 3
   },
   "file_extension": ".py",
   "mimetype": "text/x-python",
   "name": "python",
   "nbconvert_exporter": "python",
   "pygments_lexer": "ipython3",
   "version": "3.8.8"
  }
 },
 "nbformat": 4,
 "nbformat_minor": 5
}
