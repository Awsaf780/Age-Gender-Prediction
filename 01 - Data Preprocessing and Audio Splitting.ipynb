{
 "cells": [
  {
   "cell_type": "markdown",
   "id": "bf1110f7",
   "metadata": {},
   "source": [
    "## Warning"
   ]
  },
  {
   "cell_type": "markdown",
   "id": "e01d39f8",
   "metadata": {},
   "source": [
    "The second half of the Notebook deals with Audio Splitting, and uses a library called 'webrtcvad'. \n",
    "This library only runs on linux-based machines (use POSIX systems, Google Colab or a Virtual machine)"
   ]
  },
  {
   "cell_type": "markdown",
   "id": "fd01a1f0",
   "metadata": {},
   "source": [
    "## Required pip installs"
   ]
  },
  {
   "cell_type": "code",
   "execution_count": 1,
   "id": "7ca88cfa",
   "metadata": {
    "scrolled": true
   },
   "outputs": [
    {
     "name": "stdout",
     "output_type": "stream",
     "text": [
      "Collecting pydub\n",
      "  Downloading pydub-0.25.1-py2.py3-none-any.whl (32 kB)\n",
      "Collecting spectralcluster\n",
      "  Downloading spectralcluster-0.2.2-py3-none-any.whl (22 kB)\n",
      "Collecting webrtcvad\n",
      "  Downloading webrtcvad-2.0.10.tar.gz (66 kB)\n",
      "\u001b[K     |█████████████████████████████▊  | 61 kB 2.3 MB/s eta 0:00:01     |████████████████████████████████| 66 kB 2.4 MB/s \n",
      "\u001b[?25hCollecting youtube_dl\n",
      "  Downloading youtube_dl-2021.6.6-py2.py3-none-any.whl (1.9 MB)\n",
      "\u001b[K     |████████████████████████████████| 1.9 MB 1.8 MB/s eta 0:00:01\n",
      "\u001b[?25hBuilding wheels for collected packages: webrtcvad\n",
      "  Building wheel for webrtcvad (setup.py) ... \u001b[?25ldone\n",
      "\u001b[?25h  Created wheel for webrtcvad: filename=webrtcvad-2.0.10-cp38-cp38-linux_x86_64.whl size=80825 sha256=3aaea51eb1032bc462600646b729a3702cd93ed41ac4d0f9553098e99996958d\n",
      "  Stored in directory: /home/awsaf/.cache/pip/wheels/75/e1/fc/01099a9fd0882ce84cc99eb51495812bb8a703461c2b0ca1cb\n",
      "Successfully built webrtcvad\n",
      "Installing collected packages: pydub, spectralcluster, webrtcvad, youtube-dl\n",
      "Successfully installed pydub-0.25.1 spectralcluster-0.2.2 webrtcvad-2.0.10 youtube-dl-2021.6.6\n"
     ]
    }
   ],
   "source": [
    "!pip install pydub spectralcluster webrtcvad youtube_dl"
   ]
  },
  {
   "cell_type": "markdown",
   "id": "f7ac00f5",
   "metadata": {},
   "source": [
    "## Required Imports"
   ]
  },
  {
   "cell_type": "code",
   "execution_count": 5,
   "id": "c31efb67",
   "metadata": {},
   "outputs": [],
   "source": [
    "import pandas as pd\n",
    "import seaborn as sns\n",
    "\n",
    "from pydub import AudioSegment\n",
    "import os\n",
    "import math\n",
    "from pathlib import Path\n",
    "from tqdm.notebook import tqdm"
   ]
  },
  {
   "cell_type": "markdown",
   "id": "ab387223",
   "metadata": {},
   "source": [
    "## Data PreProcessing"
   ]
  },
  {
   "cell_type": "code",
   "execution_count": 6,
   "id": "eee44670",
   "metadata": {},
   "outputs": [],
   "source": [
    "link = 'https://docs.google.com/spreadsheets/d/e/2PACX-1vQp3KbscscbTJyVAWHuQY_srKz3M2GvWcmg6Sh1sz7Wn97yjtPbLCtXrc3Any4QC48l29ARWPPSEf4n/pub?gid=312053380&single=true&output=csv'"
   ]
  },
  {
   "cell_type": "code",
   "execution_count": 7,
   "id": "28dd7705",
   "metadata": {},
   "outputs": [],
   "source": [
    "df = pd.read_csv(link)"
   ]
  },
  {
   "cell_type": "code",
   "execution_count": 8,
   "id": "7c4e6481",
   "metadata": {},
   "outputs": [
    {
     "data": {
      "text/html": [
       "<div>\n",
       "<style scoped>\n",
       "    .dataframe tbody tr th:only-of-type {\n",
       "        vertical-align: middle;\n",
       "    }\n",
       "\n",
       "    .dataframe tbody tr th {\n",
       "        vertical-align: top;\n",
       "    }\n",
       "\n",
       "    .dataframe thead th {\n",
       "        text-align: right;\n",
       "    }\n",
       "</style>\n",
       "<table border=\"1\" class=\"dataframe\">\n",
       "  <thead>\n",
       "    <tr style=\"text-align: right;\">\n",
       "      <th></th>\n",
       "      <th>url</th>\n",
       "      <th>name</th>\n",
       "      <th>gender</th>\n",
       "      <th>age</th>\n",
       "    </tr>\n",
       "  </thead>\n",
       "  <tbody>\n",
       "    <tr>\n",
       "      <th>0</th>\n",
       "      <td>https://www.youtube.com/watch?v=VxW5D5VPg_0</td>\n",
       "      <td>Michelle Obama</td>\n",
       "      <td>1.0</td>\n",
       "      <td>57.0</td>\n",
       "    </tr>\n",
       "    <tr>\n",
       "      <th>1</th>\n",
       "      <td>https://www.youtube.com/watch?v=SHRoEnGD8A8</td>\n",
       "      <td>Pitbull</td>\n",
       "      <td>0.0</td>\n",
       "      <td>40.0</td>\n",
       "    </tr>\n",
       "    <tr>\n",
       "      <th>2</th>\n",
       "      <td>https://www.youtube.com/watch?v=zEiyK4pF5d4</td>\n",
       "      <td>Arianna Huffington</td>\n",
       "      <td>1.0</td>\n",
       "      <td>71.0</td>\n",
       "    </tr>\n",
       "    <tr>\n",
       "      <th>3</th>\n",
       "      <td>https://www.youtube.com/watch?v=GI0CIpkESOc</td>\n",
       "      <td>Daniel Ally</td>\n",
       "      <td>0.0</td>\n",
       "      <td>25.0</td>\n",
       "    </tr>\n",
       "    <tr>\n",
       "      <th>4</th>\n",
       "      <td>https://www.youtube.com/watch?v=jeSVng3Ummo</td>\n",
       "      <td>Ryan Holiday</td>\n",
       "      <td>0.0</td>\n",
       "      <td>34.0</td>\n",
       "    </tr>\n",
       "  </tbody>\n",
       "</table>\n",
       "</div>"
      ],
      "text/plain": [
       "                                           url                name  gender  \\\n",
       "0  https://www.youtube.com/watch?v=VxW5D5VPg_0      Michelle Obama     1.0   \n",
       "1  https://www.youtube.com/watch?v=SHRoEnGD8A8             Pitbull     0.0   \n",
       "2  https://www.youtube.com/watch?v=zEiyK4pF5d4  Arianna Huffington     1.0   \n",
       "3  https://www.youtube.com/watch?v=GI0CIpkESOc         Daniel Ally     0.0   \n",
       "4  https://www.youtube.com/watch?v=jeSVng3Ummo        Ryan Holiday     0.0   \n",
       "\n",
       "    age  \n",
       "0  57.0  \n",
       "1  40.0  \n",
       "2  71.0  \n",
       "3  25.0  \n",
       "4  34.0  "
      ]
     },
     "execution_count": 8,
     "metadata": {},
     "output_type": "execute_result"
    }
   ],
   "source": [
    "df.head()"
   ]
  },
  {
   "cell_type": "code",
   "execution_count": 9,
   "id": "0cb2f314",
   "metadata": {},
   "outputs": [
    {
     "name": "stdout",
     "output_type": "stream",
     "text": [
      "Original DataFrame Shape:  (199, 4)\n"
     ]
    }
   ],
   "source": [
    "print(\"Original DataFrame Shape: \", df.shape)"
   ]
  },
  {
   "cell_type": "code",
   "execution_count": 10,
   "id": "3dfb0cf1",
   "metadata": {
    "scrolled": true
   },
   "outputs": [
    {
     "name": "stdout",
     "output_type": "stream",
     "text": [
      "Check Missing Values\n"
     ]
    },
    {
     "data": {
      "text/plain": [
       "url        0\n",
       "name       0\n",
       "gender    50\n",
       "age       50\n",
       "dtype: int64"
      ]
     },
     "execution_count": 10,
     "metadata": {},
     "output_type": "execute_result"
    }
   ],
   "source": [
    "print(\"Check Missing Values\")\n",
    "df.isna().sum()"
   ]
  },
  {
   "cell_type": "code",
   "execution_count": 11,
   "id": "be4dd9d7",
   "metadata": {},
   "outputs": [
    {
     "name": "stdout",
     "output_type": "stream",
     "text": [
      "Updated DataFrame Shape:  (149, 4)\n"
     ]
    }
   ],
   "source": [
    "df = df.dropna()\n",
    "print(\"Updated DataFrame Shape: \", df.shape)"
   ]
  },
  {
   "cell_type": "code",
   "execution_count": 12,
   "id": "e46db7c7",
   "metadata": {},
   "outputs": [
    {
     "name": "stdout",
     "output_type": "stream",
     "text": [
      "<class 'pandas.core.frame.DataFrame'>\n",
      "Int64Index: 149 entries, 0 to 198\n",
      "Data columns (total 4 columns):\n",
      " #   Column  Non-Null Count  Dtype  \n",
      "---  ------  --------------  -----  \n",
      " 0   url     149 non-null    object \n",
      " 1   name    149 non-null    object \n",
      " 2   gender  149 non-null    float64\n",
      " 3   age     149 non-null    float64\n",
      "dtypes: float64(2), object(2)\n",
      "memory usage: 5.8+ KB\n"
     ]
    }
   ],
   "source": [
    "df.info()"
   ]
  },
  {
   "cell_type": "markdown",
   "id": "83f13b58",
   "metadata": {},
   "source": [
    "Change Gender & Age data types to Int64"
   ]
  },
  {
   "cell_type": "code",
   "execution_count": 13,
   "id": "c6f8f039",
   "metadata": {},
   "outputs": [
    {
     "name": "stdout",
     "output_type": "stream",
     "text": [
      "<class 'pandas.core.frame.DataFrame'>\n",
      "Int64Index: 149 entries, 0 to 198\n",
      "Data columns (total 4 columns):\n",
      " #   Column  Non-Null Count  Dtype \n",
      "---  ------  --------------  ----- \n",
      " 0   url     149 non-null    object\n",
      " 1   name    149 non-null    object\n",
      " 2   gender  149 non-null    int64 \n",
      " 3   age     149 non-null    int64 \n",
      "dtypes: int64(2), object(2)\n",
      "memory usage: 5.8+ KB\n"
     ]
    }
   ],
   "source": [
    "df['age'] = df['age'].astype('int64')\n",
    "df['gender'] = df['gender'].astype('int64')\n",
    "\n",
    "df.info()"
   ]
  },
  {
   "cell_type": "code",
   "execution_count": 14,
   "id": "cad0c360",
   "metadata": {
    "scrolled": true
   },
   "outputs": [
    {
     "data": {
      "text/html": [
       "<div>\n",
       "<style scoped>\n",
       "    .dataframe tbody tr th:only-of-type {\n",
       "        vertical-align: middle;\n",
       "    }\n",
       "\n",
       "    .dataframe tbody tr th {\n",
       "        vertical-align: top;\n",
       "    }\n",
       "\n",
       "    .dataframe thead th {\n",
       "        text-align: right;\n",
       "    }\n",
       "</style>\n",
       "<table border=\"1\" class=\"dataframe\">\n",
       "  <thead>\n",
       "    <tr style=\"text-align: right;\">\n",
       "      <th></th>\n",
       "      <th>url</th>\n",
       "      <th>name</th>\n",
       "      <th>gender</th>\n",
       "      <th>age</th>\n",
       "    </tr>\n",
       "  </thead>\n",
       "  <tbody>\n",
       "    <tr>\n",
       "      <th>0</th>\n",
       "      <td>https://www.youtube.com/watch?v=VxW5D5VPg_0</td>\n",
       "      <td>Michelle Obama</td>\n",
       "      <td>1</td>\n",
       "      <td>57</td>\n",
       "    </tr>\n",
       "    <tr>\n",
       "      <th>1</th>\n",
       "      <td>https://www.youtube.com/watch?v=SHRoEnGD8A8</td>\n",
       "      <td>Pitbull</td>\n",
       "      <td>0</td>\n",
       "      <td>40</td>\n",
       "    </tr>\n",
       "    <tr>\n",
       "      <th>2</th>\n",
       "      <td>https://www.youtube.com/watch?v=zEiyK4pF5d4</td>\n",
       "      <td>Arianna Huffington</td>\n",
       "      <td>1</td>\n",
       "      <td>71</td>\n",
       "    </tr>\n",
       "    <tr>\n",
       "      <th>3</th>\n",
       "      <td>https://www.youtube.com/watch?v=GI0CIpkESOc</td>\n",
       "      <td>Daniel Ally</td>\n",
       "      <td>0</td>\n",
       "      <td>25</td>\n",
       "    </tr>\n",
       "    <tr>\n",
       "      <th>4</th>\n",
       "      <td>https://www.youtube.com/watch?v=jeSVng3Ummo</td>\n",
       "      <td>Ryan Holiday</td>\n",
       "      <td>0</td>\n",
       "      <td>34</td>\n",
       "    </tr>\n",
       "  </tbody>\n",
       "</table>\n",
       "</div>"
      ],
      "text/plain": [
       "                                           url                name  gender  \\\n",
       "0  https://www.youtube.com/watch?v=VxW5D5VPg_0      Michelle Obama       1   \n",
       "1  https://www.youtube.com/watch?v=SHRoEnGD8A8             Pitbull       0   \n",
       "2  https://www.youtube.com/watch?v=zEiyK4pF5d4  Arianna Huffington       1   \n",
       "3  https://www.youtube.com/watch?v=GI0CIpkESOc         Daniel Ally       0   \n",
       "4  https://www.youtube.com/watch?v=jeSVng3Ummo        Ryan Holiday       0   \n",
       "\n",
       "   age  \n",
       "0   57  \n",
       "1   40  \n",
       "2   71  \n",
       "3   25  \n",
       "4   34  "
      ]
     },
     "execution_count": 14,
     "metadata": {},
     "output_type": "execute_result"
    }
   ],
   "source": [
    "df.head()"
   ]
  },
  {
   "cell_type": "code",
   "execution_count": 15,
   "id": "8022e2b0",
   "metadata": {},
   "outputs": [
    {
     "data": {
      "text/plain": [
       "<AxesSubplot:xlabel='age', ylabel='Count'>"
      ]
     },
     "execution_count": 15,
     "metadata": {},
     "output_type": "execute_result"
    },
    {
     "data": {
      "image/png": "[encoded data removed]",
      "text/plain": [
       "<Figure size 432x288 with 1 Axes>"
      ]
     },
     "metadata": {
      "needs_background": "light"
     },
     "output_type": "display_data"
    }
   ],
   "source": [
    "sns.histplot(x='age', data=df, hue='gender')"
   ]
  },
  {
   "cell_type": "markdown",
   "id": "342a7413",
   "metadata": {},
   "source": [
    "-\n",
    "-"
   ]
  },
  {
   "cell_type": "markdown",
   "id": "9b93191b",
   "metadata": {},
   "source": [
    "## Audio Files Download"
   ]
  },
  {
   "cell_type": "code",
   "execution_count": 16,
   "id": "7e6040f3",
   "metadata": {},
   "outputs": [],
   "source": [
    "directory = os.getcwd()\n",
    "data_folder = 'raw_audio'\n",
    "\n",
    "raw_audio_loc = '{}/{}'.format(directory, data_folder)\n",
    "\n",
    "if not os.path.exists(raw_audio_loc):\n",
    "    os.makedirs(raw_audio_loc)\n",
    "\n",
    "os.chdir(raw_audio_loc)"
   ]
  },
  {
   "cell_type": "markdown",
   "id": "a8328b26",
   "metadata": {},
   "source": [
    "Function to Download YouTube videos in .mp3 format"
   ]
  },
  {
   "cell_type": "code",
   "execution_count": 17,
   "id": "50fbb9ac",
   "metadata": {},
   "outputs": [],
   "source": [
    "import youtube_dl\n",
    "\n",
    "def yt_mp3(video_url):\n",
    "  try:\n",
    "    video_info = youtube_dl.YoutubeDL().extract_info(\n",
    "        url = video_url,download=False\n",
    "    )\n",
    "    filename = f\"{video_info['title']}.mp3\"\n",
    "    options={\n",
    "        'format':'bestaudio/best',\n",
    "        'keepvideo':False,\n",
    "        'outtmpl':filename,\n",
    "    }\n",
    "\n",
    "    with youtube_dl.YoutubeDL(options) as ydl:\n",
    "        ydl.download([video_info['webpage_url']])\n",
    "    return filename\n",
    "\n",
    "  except:\n",
    "    return 'error'"
   ]
  },
  {
   "cell_type": "markdown",
   "id": "01916ce9",
   "metadata": {},
   "source": [
    "Function to Apply Filenames to Corresponding YouTube Links after Download"
   ]
  },
  {
   "cell_type": "code",
   "execution_count": 18,
   "id": "69c95486",
   "metadata": {},
   "outputs": [
    {
     "name": "stdout",
     "output_type": "stream",
     "text": [
      "[youtube] VxW5D5VPg_0: Downloading webpage\n",
      "[youtube] SHRoEnGD8A8: Downloading webpage\n",
      "[youtube] zEiyK4pF5d4: Downloading webpage\n",
      "[youtube] GI0CIpkESOc: Downloading webpage\n",
      "[youtube] jeSVng3Ummo: Downloading webpage\n",
      "[youtube] l1taH_Xz0R8: Downloading webpage\n",
      "[youtube] _HnxvTYOA04: Downloading webpage\n",
      "[youtube] LGpFOHV5rTs: Downloading webpage\n",
      "[youtube] U1kaU-zEYlg: Downloading webpage\n",
      "[youtube] yUnA3dQDEDM: Downloading webpage\n",
      "[youtube] BCn93U89o1s: Downloading webpage\n",
      "[youtube] vThWXFTmMl8: Downloading webpage\n",
      "[youtube] IzSXkOQoct0: Downloading webpage\n",
      "[youtube] 8_TrGEIWjGA: Downloading webpage\n",
      "[youtube] rGqKxy6Kon8: Downloading webpage\n",
      "[youtube] 8-ynIjpxGq4: Downloading webpage\n",
      "[youtube] OHm9-KCwcGQ: Downloading webpage\n",
      "[youtube] KmBmy0y_2KY: Downloading webpage\n",
      "[youtube] FYNgq-8-p8w: Downloading webpage\n",
      "[youtube] Fy7Hj_XX1_w: Downloading webpage\n",
      "[youtube] qWHdSTrN52A: Downloading webpage\n",
      "[youtube] koxcBAMKfbc: Downloading webpage\n",
      "[youtube] mTsI3l3KDjA: Downloading webpage\n",
      "[youtube] LelxMIdJbhA: Downloading webpage\n",
      "[youtube] LWdT-mHmFQg: Downloading webpage\n",
      "[youtube] PMbijfsrrM4: Downloading webpage\n",
      "[youtube] vB_6brOEEgM: Downloading webpage\n",
      "[youtube] q8hGf_xd6t4: Downloading webpage\n",
      "[youtube] owJe7sWwnVQ: Downloading webpage\n",
      "[youtube] ueeeJrHB8Iw: Downloading webpage\n",
      "[youtube] mIeDsRRHng0: Downloading webpage\n",
      "[youtube] JK9RrcBoweU: Downloading webpage\n",
      "[youtube] rpLCpxezgGg: Downloading webpage\n",
      "[youtube] 4O0wQVUXKB8: Downloading webpage\n",
      "[youtube] K92fw7nImbY: Downloading webpage\n",
      "[youtube] 2WPeYuya1NA: Downloading webpage\n",
      "[youtube] WC9pqO1vsec: Downloading webpage\n",
      "[youtube] wanr3Eu9T8M: Downloading webpage\n",
      "[youtube] bWKEKsWG3cY: Downloading webpage\n",
      "[youtube] 5pTyuAyv_HU: Downloading webpage\n",
      "[youtube] 5AGr94erli8: Downloading webpage\n",
      "[youtube] CI2oSkvnHe8: Downloading webpage\n",
      "[youtube] q8YwFiKDFzk: Downloading webpage\n",
      "[youtube] eOJSmY1PFqs: Downloading webpage\n",
      "[youtube] fSvtsEGTeBs: Downloading webpage\n",
      "[youtube] yGKnOM2avh0: Downloading webpage\n",
      "[youtube] fR5BoqkukEs: Downloading webpage\n",
      "[youtube] _tR7QjLaTDw: Downloading webpage\n",
      "[youtube] 26w5GLg9na8: Downloading webpage\n",
      "[youtube] 98QbEVrJoNE: Downloading webpage\n",
      "[youtube] AzCGwwBZ3LM: Downloading webpage\n",
      "[youtube] ROPQ0Oty7o8: Downloading webpage\n",
      "[youtube] TkKKw5KqgGM: Downloading webpage\n",
      "[youtube] RzFe-CXRvoU: Downloading webpage\n",
      "[youtube] 4kMukbxrr6U: Downloading webpage\n",
      "[youtube] Bh0utZHjkhU: Downloading webpage\n",
      "[youtube] 9udksmAdd1s: Downloading webpage\n",
      "[youtube] 2uHM_Z2XwiI: Downloading webpage\n",
      "[youtube] CZWCpQJKSBo: Downloading webpage\n",
      "[youtube] xFiJPP57YOM: Downloading webpage\n",
      "[youtube] MLaUZW2LXsQ: Downloading webpage\n",
      "[youtube] JP1_WrZeCwg: Downloading webpage\n",
      "[youtube] DQNk2MOG9tQ: Downloading webpage\n",
      "[youtube] GLxm7wQC6cc: Downloading webpage\n",
      "[youtube] sChGVPF0Y8I: Downloading webpage\n",
      "[youtube] ycQzXKlQwvg: Downloading webpage\n",
      "[youtube] JHR1f9VU3Nw: Downloading webpage\n",
      "[youtube] XAVyP0Q68zk: Downloading webpage\n",
      "[youtube] Ul5N2Myd3XM: Downloading webpage\n",
      "[youtube] gLxl3gtr_C0: Downloading webpage\n",
      "[youtube] PQ1T8Dx0p34: Downloading webpage\n",
      "[youtube] zNzpqLaPtBM: Downloading webpage\n",
      "[youtube] 52JLOS2xJLE: Downloading webpage\n",
      "[youtube] Ut9YO9xDE4c: Downloading webpage\n",
      "[youtube] 5XwqyXIWDvA: Downloading webpage\n",
      "[youtube] lCeur_Jw9BQ: Downloading webpage\n",
      "[youtube] 9aNsrtLYzvg: Downloading webpage\n",
      "[youtube] 2E6zcOrnFmU: Downloading webpage\n",
      "[youtube] bASHOLNyz9I: Downloading webpage\n",
      "[youtube] jKD6uIe1vmA: Downloading webpage\n",
      "[youtube] hTVDtuEIkVo: Downloading webpage\n",
      "[youtube] IEljhPBzkb4: Downloading webpage\n",
      "[youtube] HPSFmQBcI6A: Downloading webpage\n",
      "[youtube] PZvFESY12J0: Downloading webpage\n",
      "[youtube] k1LrzJ8IT3E: Downloading webpage\n",
      "[youtube] C93fE1Gzg9s: Downloading webpage\n",
      "[youtube] VqReAOzB6G8: Downloading webpage\n",
      "[youtube] i1BGfIkr_6c: Downloading webpage\n",
      "[youtube] _ey0SIznfl4: Downloading webpage\n",
      "[youtube] icFF_39p6LE: Downloading webpage\n",
      "[youtube] icFF_39p6LE: Downloading MPD manifest\n",
      "[youtube] t6YaUxTCu7c: Downloading webpage\n",
      "[youtube] PhYrlnf_Ufo: Downloading webpage\n",
      "[youtube] UBJueaik-7U: Downloading webpage\n",
      "[youtube] WujFRdT2jlQ: Downloading webpage\n",
      "[youtube] 8thoUKIOus8: Downloading webpage\n",
      "[youtube] 65hG5F6q0LY: Downloading webpage\n",
      "[youtube] xLH5PF-oOJ4: Downloading webpage\n",
      "[youtube] o4RWcBoyWjg: Downloading webpage\n",
      "[youtube] Q4GK5Qlp1FY: Downloading webpage\n",
      "[youtube] 8_fsva-BVM4: Downloading webpage\n",
      "[youtube] Zgor7QEUOwM: Downloading webpage\n",
      "[youtube] R35tthPevkg: Downloading webpage\n",
      "[youtube] alIfk-TneFU: Downloading webpage\n",
      "[youtube] iyQqtPIi8hY: Downloading webpage\n",
      "[youtube] W_zox3Ke_s8: Downloading webpage\n",
      "[youtube] EBJg42o1-to: Downloading webpage\n",
      "[youtube] b-LTA85deuk: Downloading webpage\n",
      "[youtube] zLuH3lUYrM0: Downloading webpage\n",
      "[youtube] blMNSV-9h_E: Downloading webpage\n",
      "[youtube] exHp3L_c2Lg: Downloading webpage\n",
      "[youtube] k9TrWzIsGv0: Downloading webpage\n",
      "[youtube] E-SZp7twQn4: Downloading webpage\n",
      "[youtube] hd9MKc0yTgc: Downloading webpage\n",
      "[youtube] GP19bUmRVe0: Downloading webpage\n",
      "[youtube] SAPm1BnDIX0: Downloading webpage\n",
      "[youtube] inw27h1V9gw: Downloading webpage\n",
      "[youtube] 1BdNYLC1t5M: Downloading webpage\n",
      "[youtube] LUllIT8rCj4: Downloading webpage\n",
      "[youtube] 3wYgemjFJoM: Downloading webpage\n",
      "[youtube] nnyzlIghfms: Downloading webpage\n",
      "[youtube] etPC57X3JB8: Downloading webpage\n",
      "[youtube] knT-OFy3QX8: Downloading webpage\n",
      "[youtube] go07D_O-cAw: Downloading webpage\n",
      "[youtube] R2isEf4KxEc: Downloading webpage\n",
      "[youtube] mvO2PIcVnJ8: Downloading webpage\n",
      "[youtube] FpoVr6Kt8dI: Downloading webpage\n",
      "[youtube] IxbSBREd65E: Downloading webpage\n",
      "[youtube] E8sh8oZPzAg: Downloading webpage\n",
      "[youtube] r1jgsOYEi2A: Downloading webpage\n",
      "[youtube] Ar_Y87JyzGw: Downloading webpage\n",
      "[youtube] XudtJM8tKbE: Downloading webpage\n",
      "[youtube] gbUkxL2I_GM: Downloading webpage\n",
      "[youtube] 37ftZ22Kt2U: Downloading webpage\n",
      "[youtube] pJ4E8onRu-E: Downloading webpage\n",
      "[youtube] L5YRI9UoSLU: Downloading webpage\n",
      "[youtube] ZlcXxhAWEMM: Downloading webpage\n",
      "[youtube] 0DbIsI3ZXhs: Downloading webpage\n",
      "[youtube] qHKKYuPlRnw: Downloading webpage\n",
      "[youtube] qHKKYuPlRnw: Downloading MPD manifest\n",
      "[youtube] p5VZ2onB8Tg: Downloading webpage\n",
      "[youtube] p5VZ2onB8Tg: Downloading MPD manifest\n",
      "[youtube] Avf_tDrgKrA: Downloading webpage\n",
      "[youtube] Avf_tDrgKrA: Downloading MPD manifest\n",
      "[youtube] wIQfcb7CD7A: Downloading webpage\n",
      "[youtube] wIQfcb7CD7A: Downloading MPD manifest\n",
      "[youtube] 5C6UELitWkw: Downloading webpage\n",
      "[youtube] bR3-RILrQl0: Downloading webpage\n",
      "[youtube] gOu9Rwl-yxw: Downloading webpage\n",
      "[youtube] 8GAWPb92q3A: Downloading webpage\n",
      "[youtube] j6K0iQg_p1w: Downloading webpage\n",
      "[youtube] _V9RI7J6NeI: Downloading webpage\n",
      "[youtube] _V9RI7J6NeI: Downloading webpage\n",
      "[youtube] BoRXbjGJrI0: Downloading webpage\n"
     ]
    }
   ],
   "source": [
    "def yt_names(video_url):\n",
    "    video_info = youtube_dl.YoutubeDL().extract_info(\n",
    "        url = video_url,download=False\n",
    "    )\n",
    "    filename = f\"{video_info['title']}.mp3\"\n",
    "    \n",
    "    return filename\n",
    "\n",
    "df['names'] = df['url'].apply(yt_names)"
   ]
  },
  {
   "cell_type": "code",
   "execution_count": 19,
   "id": "363ecdd4",
   "metadata": {},
   "outputs": [
    {
     "data": {
      "text/plain": [
       "0      Michelle Obama's Best Advice For Students | Ho...\n",
       "1             This Speech SHOCKED Everyone | Pitbull.mp3\n",
       "2      It Only Takes 5 Minutes A DAY To CHANGE YOUR L...\n",
       "3      \"What The Rich Will NEVER Tell You About Their...\n",
       "4      What Ancient People Knew About Success | Ryan ...\n",
       "                             ...                        \n",
       "194    Khadijah Tribble: How marijuana reform could r...\n",
       "195    Clover Hogan: What to do when climate change f...\n",
       "196            Jessica Kerr: Who makes judges? | TED.mp3\n",
       "197            Jessica Kerr: Who makes judges? | TED.mp3\n",
       "198    Lindsay Morcom: A history of Indigenous langua...\n",
       "Name: names, Length: 149, dtype: object"
      ]
     },
     "execution_count": 19,
     "metadata": {},
     "output_type": "execute_result"
    }
   ],
   "source": [
    "df['names']"
   ]
  },
  {
   "cell_type": "markdown",
   "id": "9ef35d53",
   "metadata": {},
   "source": [
    "Note: YouTube blocks too many requests at a single time. (HTTP Error 429: Too Many Requests)"
   ]
  },
  {
   "cell_type": "markdown",
   "id": "9255f84a",
   "metadata": {},
   "source": [
    "Function to Check Downloaded/Missing Files"
   ]
  },
  {
   "cell_type": "code",
   "execution_count": 20,
   "id": "69cbf3f9",
   "metadata": {
    "scrolled": true
   },
   "outputs": [
    {
     "name": "stdout",
     "output_type": "stream",
     "text": [
      "Cannot Load  Michelle Obama's Best Advice For Students | How To Succeed In Life.mp3\n",
      "Cannot Load  This Speech SHOCKED Everyone | Pitbull.mp3\n",
      "Cannot Load  It Only Takes 5 Minutes A DAY To CHANGE YOUR LIFE | Arianna Huffington.mp3\n",
      "Cannot Load  \"What The Rich Will NEVER Tell You About Their Success...\".mp3\n",
      "Cannot Load  What Ancient People Knew About Success | Ryan Holiday.mp3\n",
      "Cannot Load  \"What Is Your Purpose?\" | Jay Shetty's CRUCIAL Advice For Young People.mp3\n",
      "Cannot Load  The Root Of All Our Problems Today... | Adam Grant.mp3\n",
      "Cannot Load  Take FULL CONTROL Of Your Mind! | Eckhart Tolle.mp3\n",
      "Cannot Load  Is THIS The Secret To Success? The HONEST Truth | Tim Grover.mp3\n",
      "Cannot Load  The Moment That CHANGED Everything | Oprah.mp3\n",
      "Cannot Load  This Speech WILL FOREVER Change Your Life | Wentworth Miller.mp3\n",
      "Cannot Load  \"YOU Can DO THIS Too\" | How Michael Phelps Became The Best.mp3\n",
      "Cannot Load  This Simple Habit Will DRASTICALLY Improve Your Life | Wim Hof.mp3\n",
      "Cannot Load  Turn Your PASSION Into SUCCESS | Mark Manson.mp3\n",
      "Cannot Load  \"They Don't Teach You This At School\" | Robert Kiyosaki.mp3\n",
      "Cannot Load  Mark Cuban's GREATEST Advice For Young People.mp3\n",
      "Cannot Load  \"You Are WASTING Your TIME Without Knowing It\" | Eric Thomas.mp3\n",
      "Cannot Load  Use The Universe To BOOST Your PRODUCTIVITY | The Karmic Debt.mp3\n",
      "Cannot Load  You Have To Slay The Dragon | Jordan Peterson.mp3\n",
      "Cannot Load  WATCH THIS BEFORE YOU GIVE UP | Vusi Thembekwayo.mp3\n",
      "Cannot Load  \"Avoid These Types of People\" | John Maxwell.mp3\n",
      "Cannot Load  The Speech That SHOCKED The World | Dave Chapelle.mp3\n",
      "Cannot Load  \"Bruce Lee Used To Do This\" | Robin Sharma.mp3\n",
      "Cannot Load  Simple Tricks For A Happy Life | Naval Ravikant.mp3\n",
      "Cannot Load  \"You Are Suffering Because Of This...\" | Mind Architect Peter Crone.mp3\n",
      "Cannot Load  \"Sell Me This Pen\" | How To ACTUALLY Sell The Pen.mp3\n",
      "Cannot Load  Should You Go To College? | Gary Vee.mp3\n",
      "Cannot Load  You Are WASTING Precious Energy | Bruce Lipton.mp3\n",
      "Cannot Load  Decide To Change Your Destiny | Dr Joe Dispenza.mp3\n",
      "Cannot Load  STOP STRESS ON THE SPOT | A Scientific Method.mp3\n",
      "Cannot Load  The Moment That Made Jeff Bezos A Billionaire.mp3\n",
      "Cannot Load  Why You Should NEVER Give Up | Stan Lee Motivational Video.mp3\n",
      "Cannot Load  \"Are You REALLY Good Enough?\" | How To SUCCEED At LIFE ft. Tom Bilyeu.mp3\n",
      "Cannot Load  \"Success Only Takes 1000 Minutes\" | Ryan Serhant.mp3\n",
      "Cannot Load  \"How I Met Your Mother\" Star Shares His Success Advice.mp3\n",
      "Cannot Load  Joe Rogan's Advice For Young People.mp3\n",
      "Cannot Load  EMBRACE DISCOMFORT | The ANTIDOTE To Procrastination.mp3\n",
      "Cannot Load  \"People Today Are Worrying Too Much\" | Life-changing Advice.mp3\n",
      "Cannot Load  You Are PROGRAMMED To Be UNPRODUCTIVE | Flow State Secrets.mp3\n",
      "Cannot Load  The 100 Days Rule | John Assaraf.mp3\n",
      "Cannot Load  Shift Your Mood INSTANTLY | Effective Brain Hack.mp3\n",
      "Cannot Load  Make The Choice NOW | A Powerful Motivational Video.mp3\n",
      "Cannot Load  The Powerful Warren Buffett Rule.mp3\n",
      "Cannot Load  Never Stop Hustling | Life Advice by Chamillionaire.mp3\n",
      "Cannot Load  You Can CHOOSE Greatness | The TRUTH About Making Choices.mp3\n",
      "Cannot Load  WATCH THIS IF YOU HAVE A BIG IDEA | Zig Ziglar.mp3\n",
      "Cannot Load  \"I DON'T FEEL LIKE IT\" | How to EASILY Do Tasks You Hate.mp3\n",
      "Cannot Load  You Are Destroying Your Health | James Nestor on Breathing.mp3\n",
      "Cannot Load  WHY YOUR HARD WORK ISN'T PAYING OFF | Seth Godin.mp3\n",
      "Cannot Load  What Are You REALLY Working For? | A Shocking Speech by Gary John Bishop.mp3\n",
      "Cannot Load  STOP OVERTHINKING YOUR PROBLEMS | A Method That Will Change Your Life.mp3\n",
      "Cannot Load  A SIMPLE TRICK FOR INSTANT CONFIDENCE | Lessons From NBA Champions ft. David Nurse.mp3\n",
      "Cannot Load  The Reason You're NOT WINNING | Thermostat Metaphor.mp3\n",
      "Cannot Load  WHEN FEAR IS HOLDING YOU DOWN | How to Overcome ANY Fear.mp3\n",
      "Cannot Load  You Only Need 20% to Achieve Your Dreams | The Pareto Principle.mp3\n",
      "Cannot Load  WATCH THIS IF YOU HAVE A NEW YEAR'S RESOLUTION | A Practical Guide for 2021.mp3\n",
      "Cannot Load  WHEN LIFE MAKES US FEEL LOST | Matthew McConaughey's Crucial Lesson.mp3\n",
      "Cannot Load  THE TRILLION DOLLAR MINDSET | Discover The Flow State.mp3\n",
      "Cannot Load  You Are Responsible for Everything | A Jaw Dropping Speech by Guy Ritchie.mp3\n",
      "Cannot Load  THE 3 KEY STEPS TO HAPPINESS.mp3\n",
      "Cannot Load  A MUST WATCH VIDEO FOR YOUNG PEOPLE | The Deciding Success Factor.mp3\n",
      "Cannot Load  The Power of DISCIPLINE | Khabib Nurmagomedov Retirement Tribute.mp3\n",
      "Cannot Load  HOW TO LEARN NEW INFORMATION QUICKLY | Jim Kwik's Taking Notes Method.mp3\n",
      "Cannot Load  How To CONTROL Your Productivity | David Allen at Fifteen Seconds Festival 2019 in Graz, Austria.mp3\n",
      "Cannot Load  You Must PROTECT Your MIND | Incredible Motivation by Les Brown.mp3\n",
      "Cannot Load  THE JAPANESE SECRET TO MAKING MONEY | This Video Will Change Your Life.mp3\n",
      "Cannot Load  Jim Rohn - THE SECRET TO PRODUCTIVITY | How to Be More Productive.mp3\n",
      "Cannot Load  THE GREATEST THAT EVER WAS | Diego Maradona Tribute Video.mp3\n",
      "Cannot Load  Feeling Low? EMBRACE IT! |  An Incredibly Powerful Speech.mp3\n",
      "Cannot Load  How To Be Irreplaceable At Work | DO THIS FOR 15 MINUTES EVERY DAY.mp3\n",
      "Cannot Load  A GOOD MINDSET MAKES A GOOD LIFE | Powerful Mindset Motivation.mp3\n",
      "Cannot Load  Tony Robbins Has Done This FOR 20 YEARS! | This Video Will CHANGE YOUR LIFE.mp3\n",
      "Cannot Load  Rejection is NECESSARY for Your Success | An Inspirational Story by Garrain Jones.mp3\n",
      "Cannot Load  What 24 Hours in Afghanistan Taught Me | Simon Sinek.mp3\n",
      "Cannot Load  THE QUICKEST WAY TO ACHIEVE FINANCIAL FREEDOM | Gary Vee.mp3\n",
      "Cannot Load  BREAKING THE HABIT | The BEST Strategy for Changing Your Habits | Gretchen Rubin.mp3\n",
      "Cannot Load  HOW TO CONTROL YOUR EMOTIONS AND USE THEM TO YOUR ADVANTAGE.mp3\n",
      "Cannot Load  Start Being Successful TODAY | Practical Tips by Ramit Sethi.mp3\n",
      "Cannot Load  SUCCESSFUL PEOPLE NEVER TELL YOU ABOUT THIS.mp3\n",
      "Cannot Load  If You Learn THIS, Success is INEVITABLE | Robert Greene.mp3\n",
      "Cannot Load  ADOPTING THIS ONE HABIT WILL CHANGE YOUR LIFE FOREVER.mp3\n",
      "Cannot Load  How to ALWAYS Be Happy | 4 Laws of Happiness.mp3\n",
      "Cannot Load  \"Why NOT You?\" | Powerful Speech by Patrick Bet-David.mp3\n",
      "Cannot Load  BOOST YOUR ENERGY WITH THIS SECRET BRAIN HACK | Andrew Huberman.mp3\n",
      "Cannot Load  Chadwick Boseman's GREATEST Advice | Chadwick Boseman Tribute.mp3\n",
      "Cannot Load  Why Japanese People Are The MOST Productive.mp3\n",
      "Cannot Load  \"Is There Proof You CAN'T Do This?\" | Powerful Advice by Dr. Joe Vitale.mp3\n",
      "Cannot Load  STOP Your Bad Habits TODAY! | Science-backed Advice By Neuroscientist Judson Brewer.mp3\n",
      "Cannot Load  Do These 3 Things EVERY DAY For GUARANTEED Success | Brendon Burchard.mp3\n",
      "Cannot Load  Life-changing Advice By Tony Hawk.mp3\n",
      "Cannot Load  How To Unleash Your Brain Power | Dr. Rahul Jandial.mp3\n",
      "Cannot Load  3 STEPS To Achieving What You Desire | Creating The Life You Want | Jack Canfield.mp3\n",
      "Cannot Load  You'll Be Surprised It Is So EFFECTIVE | How To Learn Anything In 20 Hours | Josh Kaufman.mp3\n",
      "Cannot Load  It's All In The Mind! | Reprogram Your Mind | Marisa Peer.mp3\n",
      "Cannot Load  How To Hardwire Powerful Emotions | Hardwiring Happiness | Dr. Rick Hanson.mp3\n",
      "Cannot Load  The More You Care, The More You Prepare | Dame Dash.mp3\n",
      "Cannot Load  How To Overcome Your Fears | Nick Vujicic.mp3\n",
      "Cannot Load  The Power to Change Your Life | Change Your Mindset | Garrain Jones.mp3\n",
      "Cannot Load  How To BEAT Temptations In Your Life | Keys To Self Discipline | Terry Crews.mp3\n",
      "Cannot Load  5 Ways to Cope with Coronavirus Anxiety | Dealing With Coronavirus Fear | Dr. Tracey Marks.mp3\n",
      "Cannot Load  What Do You Want In Life | Setting Your Goals | Bob Proctor.mp3\n",
      "Cannot Load  The CURE For A Lack Of Discipline | Byron Davis.mp3\n",
      "Cannot Load  The PERKS of Waking Up At 5am | Stefan James.mp3\n",
      "Cannot Load  Young Millionaire Shares His Advice - Iman Gadzhi.mp3\n",
      "Cannot Load  Use THIS To Achieve Your Goals | 3 Most Important Questions | Vishen Lakhiani.mp3\n",
      "Cannot Load  How to BUILD Trust And EARN Respect | Jocko Willink.mp3\n",
      "Cannot Load  Jack Ma's Advice For Young People.mp3\n",
      "Cannot Load  How To Quit ANY Addiction | Wayne Dyer.mp3\n",
      "Cannot Load  The Story Of The MILLIONAIRE & The Young Man | Dan Lok.mp3\n",
      "Cannot Load  The ANCIENT Technique To Making Tough Decisions | Gregg Braden | TRY IT NOW!!.mp3\n",
      "Cannot Load  We NEED To See This Now More Than Ever! | Radhanath Swami.mp3\n",
      "Cannot Load  From ADDICT To Multi-Millionaire | Grant Cardone 10X | Money Mindset.mp3\n",
      "Cannot Load  WATCH THIS BEFORE YOU GIVE UP | Steve Harvey Motivational Speech 2020.mp3\n",
      "Cannot Load  Why Am I DEPRESSED? By Sadhguru.mp3\n",
      "Cannot Load  Use THIS To Change Your Life | Transform Your Mind | Joe Dispenza.mp3\n",
      "Cannot Load  DON'T SKIP THIS! You Deserve A Better Life | Dean Graziosi | Success Motivational Speech.mp3\n",
      "Cannot Load  This Speech Will Change Your Life | TRY IT TODAY! | Russell Brand.mp3\n",
      "Cannot Load  The SPEECH That BROKE The Internet: Joaquin Phoenix Oscar Speech.mp3\n",
      "Cannot Load  THE CURE FOR PROCRASTINATION | TRY IT NOW!! - Mel Robbins Motivation.mp3\n",
      "Cannot Load  WHEN LIFE BREAKS YOU - The Most Powerful 3 Words To Say.mp3\n",
      "Cannot Load  THE CURE TO LAZINESS - David Goggins.mp3\n",
      "Cannot Load  Should YOU Go To College? School Is Outdated | Gary Vaynerchuk Advice For Students.mp3\n",
      "Cannot Load  3 Speeches For A Better 2020 by Neil Degrasse Tyson | Christmas Special.mp3\n",
      "Cannot Load  Should You Follow Your Passion? - PASSION VS PARENTS.mp3\n",
      "Cannot Load  LADY GAGA LIFE STORY | A Heartbreaking Motivational Video.mp3\n",
      "Cannot Load  Having A Bad Day? WATCH THIS! | This Poem Will Change Your Perspective.mp3\n",
      "Cannot Load  Billionaire Dan Pena's Best Advice For Young People - $820 to Billionaire.mp3\n",
      "Cannot Load  WARNING: THIS STORY WILL BREAK YOUR HEART | The Teddy Stallard Story.mp3\n",
      "Cannot Load  Powerful Advice From A Dying Man | Steve Jobs Motivational Speech & Randy Pausch.mp3\n",
      "Cannot Load  Catch Me If You Can | Frank Abagnale Jr Heartbreaking Speech.mp3\n",
      "Cannot Load  WATCH THIS WHEN YOU WANT TO GIVE UP | Life Changing Speech by Viola Davis.mp3\n",
      "Cannot Load  POOR TO BILLIONAIRE - JK Rowling Story | Motivational Speech.mp3\n",
      "Cannot Load  HOW TO OVERCOME DEPRESSION | Very Powerful Motivational Video.mp3\n",
      "Cannot Load  WHEN YOU FEEL LIKE GIVING UP | Success Is A Lonely Road | Greg Plitt Motivation.mp3\n",
      "Cannot Load  What Intelligence Really Means | Ajahn Brahm.mp3\n",
      "Cannot Load  The GREATEST Lesson In Buddhism | Ajahn Amaro.mp3\n",
      "Cannot Load  LIBERATE Your Mind | Stuart Wilde.mp3\n",
      "Cannot Load  Does Your Life Have Meaning? | Terence McKenna.mp3\n",
      "Cannot Load  The Incredible Benefits Of Being PRESENT | Thich Nhat Hanh.mp3\n",
      "Cannot Load  LIFE IS EXTRAORDINARY | Ram Dass.mp3\n",
      "Cannot Load  Why You Must Adopt Mindfulness | Sam Harris.mp3\n",
      "Cannot Load  We need to talk about shame | Brené Brown.mp3\n",
      "Cannot Load  Anne Scherer: Why we're more honest with machines than people | TED.mp3\n",
      "Cannot Load  Why happy couples cheat | Esther Perel.mp3\n",
      "Cannot Load  Khadijah Tribble: How marijuana reform could repair, reclaim and restore communities | TED.mp3\n",
      "Cannot Load  Clover Hogan: What to do when climate change feels unstoppable | TED.mp3\n",
      "Cannot Load  Jessica Kerr: Who makes judges? | TED.mp3\n",
      "Cannot Load  Jessica Kerr: Who makes judges? | TED.mp3\n",
      "Cannot Load  Lindsay Morcom: A history of Indigenous languages -- and how to revitalize them | TED.mp3\n"
     ]
    }
   ],
   "source": [
    "def downloaded(filename):\n",
    "  try:\n",
    "    wav, sr = librosa.load(filename)\n",
    "    print(\"Loaded \", filename)\n",
    "    return 'yes'\n",
    "  except:\n",
    "    print(\"Cannot Load \", filename)\n",
    "    return 'no'\n",
    "\n",
    "df['downloaded'] = df['names'].apply(downloaded)"
   ]
  },
  {
   "cell_type": "code",
   "execution_count": 21,
   "id": "9bf84f65",
   "metadata": {},
   "outputs": [
    {
     "data": {
      "text/plain": [
       "no    149\n",
       "Name: downloaded, dtype: int64"
      ]
     },
     "execution_count": 21,
     "metadata": {},
     "output_type": "execute_result"
    }
   ],
   "source": [
    "df['downloaded'].value_counts()"
   ]
  },
  {
   "cell_type": "markdown",
   "id": "83945ee1",
   "metadata": {},
   "source": [
    "Change Column names"
   ]
  },
  {
   "cell_type": "code",
   "execution_count": 22,
   "id": "ebeb7c32",
   "metadata": {},
   "outputs": [],
   "source": [
    "cols = ['url', 'person', 'gender', 'age', 'filename', 'downloaded']\n",
    "df.columns = cols"
   ]
  },
  {
   "cell_type": "markdown",
   "id": "9120d854",
   "metadata": {},
   "source": [
    "-\n",
    "-"
   ]
  },
  {
   "cell_type": "markdown",
   "id": "83f1b411",
   "metadata": {},
   "source": [
    "## Optional: Download Missing Data & Drop Unloadable Audio"
   ]
  },
  {
   "cell_type": "code",
   "execution_count": 23,
   "id": "68ca5c26",
   "metadata": {},
   "outputs": [],
   "source": [
    "missing = df[ df['downloaded'] == 'no' ]"
   ]
  },
  {
   "cell_type": "code",
   "execution_count": 24,
   "id": "66f7b0bc",
   "metadata": {},
   "outputs": [
    {
     "data": {
      "text/plain": [
       "(149, 6)"
      ]
     },
     "execution_count": 24,
     "metadata": {},
     "output_type": "execute_result"
    }
   ],
   "source": [
    "missing.shape"
   ]
  },
  {
   "cell_type": "code",
   "execution_count": null,
   "id": "0070c655",
   "metadata": {},
   "outputs": [],
   "source": [
    "for index, data in tqdm(missing.iterrows()):\n",
    "  name = yt_mp3(data['url'])\n",
    "\n",
    "print('Complete')"
   ]
  },
  {
   "cell_type": "code",
   "execution_count": null,
   "id": "313a1354",
   "metadata": {},
   "outputs": [],
   "source": [
    "## 54 and 127 cannot be loaded/ so let's drop them\n",
    "print(df.shape)\n",
    "df = df.drop([54, 127])\n",
    "print(df.shape)"
   ]
  },
  {
   "cell_type": "markdown",
   "id": "6abc2f7a",
   "metadata": {},
   "source": [
    "-\n",
    "-"
   ]
  },
  {
   "cell_type": "markdown",
   "id": "58bc6b24",
   "metadata": {},
   "source": [
    "## Convert .mp3 Audio to .wav"
   ]
  },
  {
   "cell_type": "code",
   "execution_count": null,
   "id": "3ffc1dd4",
   "metadata": {},
   "outputs": [],
   "source": [
    "location = raw_audio_loc\n",
    "\n",
    "errors = []\n",
    "\n",
    "for file in tqdm(files):\n",
    "  wav = file.replace('.mp3', '.wav')\n",
    "  try:\n",
    "    sound = AudioSegment.from_file('{}/{}'.format(location, file))\n",
    "    sound.export('{}/{}'.format(location, wav), format=\"wav\")\n",
    "  except:\n",
    "    print('Failed: ', file)\n",
    "    errors.append(file)\n",
    "\n",
    "print('All mp3 files converted to wav')"
   ]
  },
  {
   "cell_type": "markdown",
   "id": "08d85951",
   "metadata": {},
   "source": [
    "Create column for wav file locations"
   ]
  },
  {
   "cell_type": "code",
   "execution_count": null,
   "id": "649a6b28",
   "metadata": {},
   "outputs": [],
   "source": [
    "def rename_wav(filename):\n",
    "  wav = filename.replace('.mp3', '.wav')\n",
    "  return wav\n",
    "\n",
    "df['filename_wav'] = df['filename'].apply(rename_wav)"
   ]
  },
  {
   "cell_type": "markdown",
   "id": "e40b620a",
   "metadata": {},
   "source": [
    "-\n",
    "-"
   ]
  },
  {
   "cell_type": "markdown",
   "id": "65f08307",
   "metadata": {},
   "source": [
    "## Split raw wav audio into 10 second clean splits"
   ]
  },
  {
   "cell_type": "code",
   "execution_count": 36,
   "id": "500fe37c",
   "metadata": {},
   "outputs": [],
   "source": [
    "class SplitWavAudioAwsaf():\n",
    "    def __init__(self, folder, filename, age, gender):\n",
    "        self.folder = folder\n",
    "        self.filename = filename\n",
    "        self.age = age\n",
    "        self.gender = gender\n",
    "        \n",
    "        self.filepath = folder + '/' + filename\n",
    "        \n",
    "        self.audio = AudioSegment.from_wav(self.filepath)\n",
    "    \n",
    "    def get_duration(self):\n",
    "        return self.audio.duration_seconds\n",
    "    \n",
    "    def single_split(self, from_min, to_min, split_filename):\n",
    "        t1 = from_min * 1000\n",
    "        t2 = to_min * 1000\n",
    "        split_audio = self.audio[t1:t2]\n",
    "        split_audio.export(self.folder + '/splits/' + split_filename, format=\"wav\")\n",
    "        return [split_filename, self.age, self.gender]\n",
    "        \n",
    "    def multiple_split(self, min_per_split):\n",
    "        total_mins = math.ceil(self.get_duration())\n",
    "        # print(total_mins)\n",
    "\n",
    "        splits = []\n",
    "\n",
    "        for i in tqdm(range(0, total_mins, min_per_split)):\n",
    "            split_fn = str(i) + '_' + self.filename\n",
    "            splits.append(self.single_split(i, i+min_per_split, split_fn))\n",
    "            # print(str(i) + ' Done')\n",
    "            if i == total_mins - min_per_split:\n",
    "                print('All splited successfully')\n",
    "        return splits[:-2]"
   ]
  },
  {
   "cell_type": "code",
   "execution_count": null,
   "id": "a41e8400",
   "metadata": {},
   "outputs": [],
   "source": [
    "folder = raw_audio_loc\n",
    "\n",
    "all_splits = []\n",
    "\n",
    "for index, data in tqdm(df.iterrows()):\n",
    "  try:\n",
    "    filename = data['filename_wav']\n",
    "    split = SplitWavAudioAwsaf(folder, filename, data['age'], data['gender'])\n",
    "    single_splits = split.multiple_split(min_per_split=10)\n",
    "    all_splits.append(single_splits)\n",
    "  except:\n",
    "    print('File doesnt exist')"
   ]
  },
  {
   "cell_type": "markdown",
   "id": "32f19644",
   "metadata": {},
   "source": [
    "Flatten Nest Split registers to 1-d list"
   ]
  },
  {
   "cell_type": "code",
   "execution_count": null,
   "id": "32a3ed62",
   "metadata": {},
   "outputs": [],
   "source": [
    "flat_list = []\n",
    "for sublist in tqdm(all_splits):\n",
    "    for item in sublist:\n",
    "        flat_list.append(item)"
   ]
  },
  {
   "cell_type": "markdown",
   "id": "d6b11a9e",
   "metadata": {},
   "source": [
    "Create new DataFrame from Split List"
   ]
  },
  {
   "cell_type": "code",
   "execution_count": null,
   "id": "5c428148",
   "metadata": {},
   "outputs": [],
   "source": [
    "split_df = pd.DataFrame(flat_list)\n",
    "split_df.head()"
   ]
  },
  {
   "cell_type": "markdown",
   "id": "bf27a674",
   "metadata": {},
   "source": [
    "Use Necessary Columns"
   ]
  },
  {
   "cell_type": "code",
   "execution_count": null,
   "id": "727fa418",
   "metadata": {},
   "outputs": [],
   "source": [
    "split_df.columns = ['filename', 'age', 'gender']\n",
    "split_df.head()"
   ]
  },
  {
   "cell_type": "code",
   "execution_count": null,
   "id": "8a90cf5b",
   "metadata": {},
   "outputs": [],
   "source": [
    "split_df.shape"
   ]
  },
  {
   "cell_type": "code",
   "execution_count": null,
   "id": "0d7949e1",
   "metadata": {},
   "outputs": [],
   "source": [
    "split_df['gender'].value_counts()"
   ]
  },
  {
   "cell_type": "markdown",
   "id": "f365cf43",
   "metadata": {},
   "source": [
    "-\n",
    "-"
   ]
  },
  {
   "cell_type": "markdown",
   "id": "66aeb9d4",
   "metadata": {},
   "source": [
    "## Save Split Dataset to csv file"
   ]
  },
  {
   "cell_type": "code",
   "execution_count": null,
   "id": "363b6ebc",
   "metadata": {},
   "outputs": [],
   "source": [
    "split_df.to_csv('-agesex_dataset.csv', index=False)"
   ]
  }
 ],
 "metadata": {
  "kernelspec": {
   "display_name": "Python 3 (ipykernel)",
   "language": "python",
   "name": "python3"
  },
  "language_info": {
   "codemirror_mode": {
    "name": "ipython",
    "version": 3
   },
   "file_extension": ".py",
   "mimetype": "text/x-python",
   "name": "python",
   "nbconvert_exporter": "python",
   "pygments_lexer": "ipython3",
   "version": "3.8.10"
  }
 },
 "nbformat": 4,
 "nbformat_minor": 5
}
