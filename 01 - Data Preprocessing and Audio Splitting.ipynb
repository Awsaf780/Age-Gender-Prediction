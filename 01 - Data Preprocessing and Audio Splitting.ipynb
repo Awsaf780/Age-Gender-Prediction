{
 "cells": [
  {
   "cell_type": "markdown",
   "id": "bf1110f7",
   "metadata": {},
   "source": [
    "## Warning"
   ]
  },
  {
   "cell_type": "markdown",
   "id": "e01d39f8",
   "metadata": {},
   "source": [
    "The second half of the Notebook deals with Audio Splitting, and uses a library called 'webrtcvad'. \n",
    "This library only runs on linux-based machines (use POSIX systems, Google Colab or a Virtual machine)"
   ]
  },
  {
   "cell_type": "markdown",
   "id": "fd01a1f0",
   "metadata": {},
   "source": [
    "## Required pip installs"
   ]
  },
  {
   "cell_type": "code",
   "execution_count": null,
   "id": "7ca88cfa",
   "metadata": {},
   "outputs": [],
   "source": [
    "!pip install pydub spectralcluster webrtcvad youtube_dl"
   ]
  },
  {
   "cell_type": "markdown",
   "id": "f7ac00f5",
   "metadata": {},
   "source": [
    "## Required Imports"
   ]
  },
  {
   "cell_type": "code",
   "execution_count": 33,
   "id": "c31efb67",
   "metadata": {},
   "outputs": [],
   "source": [
    "import pandas as pd\n",
    "import seaborn as sns\n",
    "\n",
    "from pydub import AudioSegment\n",
    "import os\n",
    "import math\n",
    "from pathlib import Path\n",
    "from tqdm.notebook import tqdm\n",
    "import librosa"
   ]
  },
  {
   "cell_type": "markdown",
   "id": "ab387223",
   "metadata": {},
   "source": [
    "## Data PreProcessing"
   ]
  },
  {
   "cell_type": "code",
   "execution_count": 3,
   "id": "eee44670",
   "metadata": {},
   "outputs": [],
   "source": [
    "link = 'https://docs.google.com/spreadsheets/d/e/2PACX-1vQp3KbscscbTJyVAWHuQY_srKz3M2GvWcmg6Sh1sz7Wn97yjtPbLCtXrc3Any4QC48l29ARWPPSEf4n/pub?gid=312053380&single=true&output=csv'"
   ]
  },
  {
   "cell_type": "code",
   "execution_count": 12,
   "id": "28dd7705",
   "metadata": {},
   "outputs": [],
   "source": [
    "df = pd.read_csv(link)"
   ]
  },
  {
   "cell_type": "code",
   "execution_count": 13,
   "id": "7c4e6481",
   "metadata": {},
   "outputs": [
    {
     "data": {
      "text/html": [
       "<div>\n",
       "<style scoped>\n",
       "    .dataframe tbody tr th:only-of-type {\n",
       "        vertical-align: middle;\n",
       "    }\n",
       "\n",
       "    .dataframe tbody tr th {\n",
       "        vertical-align: top;\n",
       "    }\n",
       "\n",
       "    .dataframe thead th {\n",
       "        text-align: right;\n",
       "    }\n",
       "</style>\n",
       "<table border=\"1\" class=\"dataframe\">\n",
       "  <thead>\n",
       "    <tr style=\"text-align: right;\">\n",
       "      <th></th>\n",
       "      <th>url</th>\n",
       "      <th>name</th>\n",
       "      <th>gender</th>\n",
       "      <th>age</th>\n",
       "    </tr>\n",
       "  </thead>\n",
       "  <tbody>\n",
       "    <tr>\n",
       "      <th>0</th>\n",
       "      <td>https://www.youtube.com/watch?v=VxW5D5VPg_0</td>\n",
       "      <td>Michelle Obama</td>\n",
       "      <td>1.0</td>\n",
       "      <td>57.0</td>\n",
       "    </tr>\n",
       "    <tr>\n",
       "      <th>1</th>\n",
       "      <td>https://www.youtube.com/watch?v=SHRoEnGD8A8</td>\n",
       "      <td>Pitbull</td>\n",
       "      <td>0.0</td>\n",
       "      <td>40.0</td>\n",
       "    </tr>\n",
       "    <tr>\n",
       "      <th>2</th>\n",
       "      <td>https://www.youtube.com/watch?v=zEiyK4pF5d4</td>\n",
       "      <td>Arianna Huffington</td>\n",
       "      <td>1.0</td>\n",
       "      <td>71.0</td>\n",
       "    </tr>\n",
       "    <tr>\n",
       "      <th>3</th>\n",
       "      <td>https://www.youtube.com/watch?v=GI0CIpkESOc</td>\n",
       "      <td>Daniel Ally</td>\n",
       "      <td>0.0</td>\n",
       "      <td>25.0</td>\n",
       "    </tr>\n",
       "    <tr>\n",
       "      <th>4</th>\n",
       "      <td>https://www.youtube.com/watch?v=jeSVng3Ummo</td>\n",
       "      <td>Ryan Holiday</td>\n",
       "      <td>0.0</td>\n",
       "      <td>34.0</td>\n",
       "    </tr>\n",
       "  </tbody>\n",
       "</table>\n",
       "</div>"
      ],
      "text/plain": [
       "                                           url                name  gender  \\\n",
       "0  https://www.youtube.com/watch?v=VxW5D5VPg_0      Michelle Obama     1.0   \n",
       "1  https://www.youtube.com/watch?v=SHRoEnGD8A8             Pitbull     0.0   \n",
       "2  https://www.youtube.com/watch?v=zEiyK4pF5d4  Arianna Huffington     1.0   \n",
       "3  https://www.youtube.com/watch?v=GI0CIpkESOc         Daniel Ally     0.0   \n",
       "4  https://www.youtube.com/watch?v=jeSVng3Ummo        Ryan Holiday     0.0   \n",
       "\n",
       "    age  \n",
       "0  57.0  \n",
       "1  40.0  \n",
       "2  71.0  \n",
       "3  25.0  \n",
       "4  34.0  "
      ]
     },
     "execution_count": 13,
     "metadata": {},
     "output_type": "execute_result"
    }
   ],
   "source": [
    "df.head()"
   ]
  },
  {
   "cell_type": "code",
   "execution_count": 14,
   "id": "0cb2f314",
   "metadata": {},
   "outputs": [
    {
     "name": "stdout",
     "output_type": "stream",
     "text": [
      "Original DataFrame Shape:  (199, 4)\n"
     ]
    }
   ],
   "source": [
    "print(\"Original DataFrame Shape: \", df.shape)"
   ]
  },
  {
   "cell_type": "code",
   "execution_count": 19,
   "id": "3dfb0cf1",
   "metadata": {
    "scrolled": true
   },
   "outputs": [
    {
     "name": "stdout",
     "output_type": "stream",
     "text": [
      "Check Missing Values\n"
     ]
    },
    {
     "data": {
      "text/plain": [
       "url        0\n",
       "name       0\n",
       "gender    50\n",
       "age       50\n",
       "dtype: int64"
      ]
     },
     "execution_count": 19,
     "metadata": {},
     "output_type": "execute_result"
    }
   ],
   "source": [
    "print(\"Check Missing Values\")\n",
    "df.isna().sum()"
   ]
  },
  {
   "cell_type": "code",
   "execution_count": 20,
   "id": "be4dd9d7",
   "metadata": {},
   "outputs": [
    {
     "name": "stdout",
     "output_type": "stream",
     "text": [
      "Updated DataFrame Shape:  (149, 4)\n"
     ]
    }
   ],
   "source": [
    "df = df.dropna()\n",
    "print(\"Updated DataFrame Shape: \", df.shape)"
   ]
  },
  {
   "cell_type": "code",
   "execution_count": 26,
   "id": "e46db7c7",
   "metadata": {},
   "outputs": [
    {
     "name": "stdout",
     "output_type": "stream",
     "text": [
      "<class 'pandas.core.frame.DataFrame'>\n",
      "Int64Index: 149 entries, 0 to 198\n",
      "Data columns (total 4 columns):\n",
      " #   Column  Non-Null Count  Dtype  \n",
      "---  ------  --------------  -----  \n",
      " 0   url     149 non-null    object \n",
      " 1   name    149 non-null    object \n",
      " 2   gender  149 non-null    float64\n",
      " 3   age     149 non-null    float64\n",
      "dtypes: float64(2), object(2)\n",
      "memory usage: 5.8+ KB\n"
     ]
    }
   ],
   "source": [
    "df.info()"
   ]
  },
  {
   "cell_type": "markdown",
   "id": "83f13b58",
   "metadata": {},
   "source": [
    "Change Gender & Age data types to Int64"
   ]
  },
  {
   "cell_type": "code",
   "execution_count": 28,
   "id": "c6f8f039",
   "metadata": {},
   "outputs": [
    {
     "name": "stdout",
     "output_type": "stream",
     "text": [
      "<class 'pandas.core.frame.DataFrame'>\n",
      "Int64Index: 149 entries, 0 to 198\n",
      "Data columns (total 4 columns):\n",
      " #   Column  Non-Null Count  Dtype \n",
      "---  ------  --------------  ----- \n",
      " 0   url     149 non-null    object\n",
      " 1   name    149 non-null    object\n",
      " 2   gender  149 non-null    int64 \n",
      " 3   age     149 non-null    int64 \n",
      "dtypes: int64(2), object(2)\n",
      "memory usage: 5.8+ KB\n"
     ]
    }
   ],
   "source": [
    "df['age'] = df['age'].astype('int64')\n",
    "df['gender'] = df['gender'].astype('int64')\n",
    "\n",
    "df.info()"
   ]
  },
  {
   "cell_type": "code",
   "execution_count": 29,
   "id": "cad0c360",
   "metadata": {
    "scrolled": true
   },
   "outputs": [
    {
     "data": {
      "text/html": [
       "<div>\n",
       "<style scoped>\n",
       "    .dataframe tbody tr th:only-of-type {\n",
       "        vertical-align: middle;\n",
       "    }\n",
       "\n",
       "    .dataframe tbody tr th {\n",
       "        vertical-align: top;\n",
       "    }\n",
       "\n",
       "    .dataframe thead th {\n",
       "        text-align: right;\n",
       "    }\n",
       "</style>\n",
       "<table border=\"1\" class=\"dataframe\">\n",
       "  <thead>\n",
       "    <tr style=\"text-align: right;\">\n",
       "      <th></th>\n",
       "      <th>url</th>\n",
       "      <th>name</th>\n",
       "      <th>gender</th>\n",
       "      <th>age</th>\n",
       "    </tr>\n",
       "  </thead>\n",
       "  <tbody>\n",
       "    <tr>\n",
       "      <th>0</th>\n",
       "      <td>https://www.youtube.com/watch?v=VxW5D5VPg_0</td>\n",
       "      <td>Michelle Obama</td>\n",
       "      <td>1</td>\n",
       "      <td>57</td>\n",
       "    </tr>\n",
       "    <tr>\n",
       "      <th>1</th>\n",
       "      <td>https://www.youtube.com/watch?v=SHRoEnGD8A8</td>\n",
       "      <td>Pitbull</td>\n",
       "      <td>0</td>\n",
       "      <td>40</td>\n",
       "    </tr>\n",
       "    <tr>\n",
       "      <th>2</th>\n",
       "      <td>https://www.youtube.com/watch?v=zEiyK4pF5d4</td>\n",
       "      <td>Arianna Huffington</td>\n",
       "      <td>1</td>\n",
       "      <td>71</td>\n",
       "    </tr>\n",
       "    <tr>\n",
       "      <th>3</th>\n",
       "      <td>https://www.youtube.com/watch?v=GI0CIpkESOc</td>\n",
       "      <td>Daniel Ally</td>\n",
       "      <td>0</td>\n",
       "      <td>25</td>\n",
       "    </tr>\n",
       "    <tr>\n",
       "      <th>4</th>\n",
       "      <td>https://www.youtube.com/watch?v=jeSVng3Ummo</td>\n",
       "      <td>Ryan Holiday</td>\n",
       "      <td>0</td>\n",
       "      <td>34</td>\n",
       "    </tr>\n",
       "  </tbody>\n",
       "</table>\n",
       "</div>"
      ],
      "text/plain": [
       "                                           url                name  gender  \\\n",
       "0  https://www.youtube.com/watch?v=VxW5D5VPg_0      Michelle Obama       1   \n",
       "1  https://www.youtube.com/watch?v=SHRoEnGD8A8             Pitbull       0   \n",
       "2  https://www.youtube.com/watch?v=zEiyK4pF5d4  Arianna Huffington       1   \n",
       "3  https://www.youtube.com/watch?v=GI0CIpkESOc         Daniel Ally       0   \n",
       "4  https://www.youtube.com/watch?v=jeSVng3Ummo        Ryan Holiday       0   \n",
       "\n",
       "   age  \n",
       "0   57  \n",
       "1   40  \n",
       "2   71  \n",
       "3   25  \n",
       "4   34  "
      ]
     },
     "execution_count": 29,
     "metadata": {},
     "output_type": "execute_result"
    }
   ],
   "source": [
    "df.head()"
   ]
  },
  {
   "cell_type": "code",
   "execution_count": 34,
   "id": "8022e2b0",
   "metadata": {},
   "outputs": [
    {
     "data": {
      "text/plain": [
       "<AxesSubplot:xlabel='age', ylabel='Count'>"
      ]
     },
     "execution_count": 34,
     "metadata": {},
     "output_type": "execute_result"
    },
    {
     "data": {
      "image/png": "[encoded data removed]",
      "text/plain": [
       "<Figure size 432x288 with 1 Axes>"
      ]
     },
     "metadata": {
      "needs_background": "light"
     },
     "output_type": "display_data"
    }
   ],
   "source": [
    "sns.histplot(x='age', data=df, hue='gender')"
   ]
  },
  {
   "cell_type": "markdown",
   "id": "342a7413",
   "metadata": {},
   "source": [
    "-\n",
    "-"
   ]
  },
  {
   "cell_type": "markdown",
   "id": "9b93191b",
   "metadata": {},
   "source": [
    "## Audio Files Download"
   ]
  },
  {
   "cell_type": "code",
   "execution_count": 35,
   "id": "7e6040f3",
   "metadata": {},
   "outputs": [],
   "source": [
    "directory = os.getcwd()\n",
    "data_folder = 'raw_audio'\n",
    "\n",
    "raw_audio_loc = '{}/{}'.format(directory, data_folder)\n",
    "\n",
    "if not os.path.exists(raw_audio_loc):\n",
    "    os.makedirs(raw_audio_loc)\n",
    "\n",
    "os.chdir(raw_audio_loc)"
   ]
  },
  {
   "cell_type": "markdown",
   "id": "a8328b26",
   "metadata": {},
   "source": [
    "Function to Download YouTube videos in .mp3 format"
   ]
  },
  {
   "cell_type": "code",
   "execution_count": 30,
   "id": "50fbb9ac",
   "metadata": {},
   "outputs": [],
   "source": [
    "import youtube_dl\n",
    "\n",
    "def yt_mp3(video_url):\n",
    "  try:\n",
    "    video_info = youtube_dl.YoutubeDL().extract_info(\n",
    "        url = video_url,download=False\n",
    "    )\n",
    "    filename = f\"{video_info['title']}.mp3\"\n",
    "    options={\n",
    "        'format':'bestaudio/best',\n",
    "        'keepvideo':False,\n",
    "        'outtmpl':filename,\n",
    "    }\n",
    "\n",
    "    with youtube_dl.YoutubeDL(options) as ydl:\n",
    "        ydl.download([video_info['webpage_url']])\n",
    "    return filename\n",
    "\n",
    "  except:\n",
    "    return 'error'"
   ]
  },
  {
   "cell_type": "markdown",
   "id": "01916ce9",
   "metadata": {},
   "source": [
    "Function to Apply Filenames to Corresponding YoutTube Links after Download"
   ]
  },
  {
   "cell_type": "code",
   "execution_count": null,
   "id": "69c95486",
   "metadata": {},
   "outputs": [],
   "source": [
    "def yt_names(video_url):\n",
    "    video_info = youtube_dl.YoutubeDL().extract_info(\n",
    "        url = video_url,download=False\n",
    "    )\n",
    "    filename = f\"{video_info['title']}.mp3\"\n",
    "    \n",
    "    return filename\n",
    "\n",
    "df['names'] = df['url'].apply(yt_names)"
   ]
  },
  {
   "cell_type": "code",
   "execution_count": null,
   "id": "363ecdd4",
   "metadata": {},
   "outputs": [],
   "source": [
    "df['names']"
   ]
  },
  {
   "cell_type": "markdown",
   "id": "9ef35d53",
   "metadata": {},
   "source": [
    "Note: YouTube blocks too many requests at a single time. (HTTP Error 429: Too Many Requests)"
   ]
  },
  {
   "cell_type": "markdown",
   "id": "9255f84a",
   "metadata": {},
   "source": [
    "Function to Check Downloaded/Missing Files"
   ]
  },
  {
   "cell_type": "code",
   "execution_count": null,
   "id": "69cbf3f9",
   "metadata": {},
   "outputs": [],
   "source": [
    "def downloaded(filename):\n",
    "  try:\n",
    "    wav, sr = librosa.load(filename)\n",
    "    print(\"Loaded \", filename)\n",
    "    return 'yes'\n",
    "  except:\n",
    "    print(\"Cannot Load \", filename)\n",
    "    return 'no'\n",
    "\n",
    "df['downloaded'] = df['names'].apply(downloaded)"
   ]
  },
  {
   "cell_type": "code",
   "execution_count": null,
   "id": "9bf84f65",
   "metadata": {},
   "outputs": [],
   "source": [
    "df['downloaded'].value_counts()"
   ]
  },
  {
   "cell_type": "markdown",
   "id": "83945ee1",
   "metadata": {},
   "source": [
    "Change Column names"
   ]
  },
  {
   "cell_type": "code",
   "execution_count": null,
   "id": "ebeb7c32",
   "metadata": {},
   "outputs": [],
   "source": [
    "cols = ['url', 'person', 'gender', 'age', 'filename', 'downloaded']\n",
    "df.columns = cols"
   ]
  },
  {
   "cell_type": "markdown",
   "id": "9120d854",
   "metadata": {},
   "source": [
    "-\n",
    "-"
   ]
  },
  {
   "cell_type": "markdown",
   "id": "83f1b411",
   "metadata": {},
   "source": [
    "## Optional: Download Missing Data & Drop Unloadable Audio"
   ]
  },
  {
   "cell_type": "code",
   "execution_count": null,
   "id": "68ca5c26",
   "metadata": {},
   "outputs": [],
   "source": [
    "missing = df[ df['downloaded'] == 'no' ]"
   ]
  },
  {
   "cell_type": "code",
   "execution_count": null,
   "id": "66f7b0bc",
   "metadata": {},
   "outputs": [],
   "source": [
    "missing.shape"
   ]
  },
  {
   "cell_type": "code",
   "execution_count": null,
   "id": "0070c655",
   "metadata": {},
   "outputs": [],
   "source": [
    "for index, data in tqdm(missing.iterrows()):\n",
    "  name = yt_mp3(data['url'])\n",
    "\n",
    "print('Complete')"
   ]
  },
  {
   "cell_type": "code",
   "execution_count": null,
   "id": "313a1354",
   "metadata": {},
   "outputs": [],
   "source": [
    "## 54 and 127 cannot be loaded/ so let's drop them\n",
    "print(df.shape)\n",
    "df = df.drop([54, 127])\n",
    "print(df.shape)"
   ]
  },
  {
   "cell_type": "markdown",
   "id": "6abc2f7a",
   "metadata": {},
   "source": [
    "-\n",
    "-"
   ]
  },
  {
   "cell_type": "markdown",
   "id": "58bc6b24",
   "metadata": {},
   "source": [
    "## Convert .mp3 Audio to .wav"
   ]
  },
  {
   "cell_type": "code",
   "execution_count": null,
   "id": "3ffc1dd4",
   "metadata": {},
   "outputs": [],
   "source": [
    "location = raw_audio_loc\n",
    "\n",
    "errors = []\n",
    "\n",
    "for file in tqdm(files):\n",
    "  wav = file.replace('.mp3', '.wav')\n",
    "  try:\n",
    "    sound = AudioSegment.from_file('{}/{}'.format(location, file))\n",
    "    sound.export('{}/{}'.format(location, wav), format=\"wav\")\n",
    "  except:\n",
    "    print('Failed: ', file)\n",
    "    errors.append(file)\n",
    "\n",
    "print('All mp3 files converted to wav')"
   ]
  },
  {
   "cell_type": "markdown",
   "id": "08d85951",
   "metadata": {},
   "source": [
    "Create column for wav file locations"
   ]
  },
  {
   "cell_type": "code",
   "execution_count": null,
   "id": "649a6b28",
   "metadata": {},
   "outputs": [],
   "source": [
    "def rename_wav(filename):\n",
    "  wav = filename.replace('.mp3', '.wav')\n",
    "  return wav\n",
    "\n",
    "df['filename_wav'] = df['filename'].apply(rename_wav)"
   ]
  },
  {
   "cell_type": "markdown",
   "id": "e40b620a",
   "metadata": {},
   "source": [
    "-\n",
    "-"
   ]
  },
  {
   "cell_type": "markdown",
   "id": "65f08307",
   "metadata": {},
   "source": [
    "## Split raw wav audio into 10 second clean splits"
   ]
  },
  {
   "cell_type": "code",
   "execution_count": 36,
   "id": "500fe37c",
   "metadata": {},
   "outputs": [],
   "source": [
    "class SplitWavAudioAwsaf():\n",
    "    def __init__(self, folder, filename, age, gender):\n",
    "        self.folder = folder\n",
    "        self.filename = filename\n",
    "        self.age = age\n",
    "        self.gender = gender\n",
    "        \n",
    "        self.filepath = folder + '/' + filename\n",
    "        \n",
    "        self.audio = AudioSegment.from_wav(self.filepath)\n",
    "    \n",
    "    def get_duration(self):\n",
    "        return self.audio.duration_seconds\n",
    "    \n",
    "    def single_split(self, from_min, to_min, split_filename):\n",
    "        t1 = from_min * 1000\n",
    "        t2 = to_min * 1000\n",
    "        split_audio = self.audio[t1:t2]\n",
    "        split_audio.export(self.folder + '/splits/' + split_filename, format=\"wav\")\n",
    "        return [split_filename, self.age, self.gender]\n",
    "        \n",
    "    def multiple_split(self, min_per_split):\n",
    "        total_mins = math.ceil(self.get_duration())\n",
    "        # print(total_mins)\n",
    "\n",
    "        splits = []\n",
    "\n",
    "        for i in tqdm(range(0, total_mins, min_per_split)):\n",
    "            split_fn = str(i) + '_' + self.filename\n",
    "            splits.append(self.single_split(i, i+min_per_split, split_fn))\n",
    "            # print(str(i) + ' Done')\n",
    "            if i == total_mins - min_per_split:\n",
    "                print('All splited successfully')\n",
    "        return splits[:-2]"
   ]
  },
  {
   "cell_type": "code",
   "execution_count": null,
   "id": "a41e8400",
   "metadata": {},
   "outputs": [],
   "source": [
    "folder = raw_audio_loc\n",
    "\n",
    "all_splits = []\n",
    "\n",
    "for index, data in tqdm(df.iterrows()):\n",
    "  try:\n",
    "    filename = data['filename_wav']\n",
    "    split = SplitWavAudioAwsaf(folder, filename, data['age'], data['gender'])\n",
    "    single_splits = split.multiple_split(min_per_split=10)\n",
    "    all_splits.append(single_splits)\n",
    "  except:\n",
    "    print('File doesnt exist')"
   ]
  },
  {
   "cell_type": "markdown",
   "id": "32f19644",
   "metadata": {},
   "source": [
    "Flatten Nest Split registers to 1-d list"
   ]
  },
  {
   "cell_type": "code",
   "execution_count": null,
   "id": "32a3ed62",
   "metadata": {},
   "outputs": [],
   "source": [
    "flat_list = []\n",
    "for sublist in tqdm(all_splits):\n",
    "    for item in sublist:\n",
    "        flat_list.append(item)"
   ]
  },
  {
   "cell_type": "markdown",
   "id": "d6b11a9e",
   "metadata": {},
   "source": [
    "Create new DataFrame from Split List"
   ]
  },
  {
   "cell_type": "code",
   "execution_count": null,
   "id": "5c428148",
   "metadata": {},
   "outputs": [],
   "source": [
    "split_df = pd.DataFrame(flat_list)\n",
    "split_df.head()"
   ]
  },
  {
   "cell_type": "markdown",
   "id": "bf27a674",
   "metadata": {},
   "source": [
    "Use Necessary Columns"
   ]
  },
  {
   "cell_type": "code",
   "execution_count": null,
   "id": "727fa418",
   "metadata": {},
   "outputs": [],
   "source": [
    "split_df.columns = ['filename', 'age', 'gender']\n",
    "split_df.head()"
   ]
  },
  {
   "cell_type": "code",
   "execution_count": null,
   "id": "8a90cf5b",
   "metadata": {},
   "outputs": [],
   "source": [
    "split_df.shape"
   ]
  },
  {
   "cell_type": "code",
   "execution_count": null,
   "id": "0d7949e1",
   "metadata": {},
   "outputs": [],
   "source": [
    "split_df['gender'].value_counts()"
   ]
  },
  {
   "cell_type": "markdown",
   "id": "f365cf43",
   "metadata": {},
   "source": [
    "-\n",
    "-"
   ]
  },
  {
   "cell_type": "markdown",
   "id": "66aeb9d4",
   "metadata": {},
   "source": [
    "## Save Split Dataset to csv file"
   ]
  },
  {
   "cell_type": "code",
   "execution_count": null,
   "id": "363b6ebc",
   "metadata": {},
   "outputs": [],
   "source": [
    "split_df.to_csv('-agesex_dataset.csv', index=False)"
   ]
  }
 ],
 "metadata": {
  "kernelspec": {
   "display_name": "Python 3",
   "language": "python",
   "name": "python3"
  },
  "language_info": {
   "codemirror_mode": {
    "name": "ipython",
    "version": 3
   },
   "file_extension": ".py",
   "mimetype": "text/x-python",
   "name": "python",
   "nbconvert_exporter": "python",
   "pygments_lexer": "ipython3",
   "version": "3.8.8"
  }
 },
 "nbformat": 4,
 "nbformat_minor": 5
}
